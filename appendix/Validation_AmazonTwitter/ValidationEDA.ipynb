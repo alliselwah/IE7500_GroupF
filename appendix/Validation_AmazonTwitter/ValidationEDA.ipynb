{
 "cells": [
  {
   "cell_type": "code",
   "execution_count": null,
   "id": "6312f045-5231-4de6-83db-35bd8ad9b335",
   "metadata": {},
   "outputs": [],
   "source": [
    "import pandas as pd\n",
    "import matplotlib.pyplot as plt\n",
    "import seaborn as sns\n",
    "\n",
    "# Filepaths\n",
    "reddit_file = \"/Users/allisonselwah/Downloads/CSV_files/Reddit_Data_Cleaned.csv\"\n",
    "twitter_file = \"/Users/allisonselwah/Downloads/CSV_files/Twitter_Data_Cleaned.csv\"\n",
    "\n",
    "# Reading the files\n",
    "reddit_data = pd.read_csv(reddit_file)\n",
    "twitter_data = pd.read_csv(twitter_file)\n",
    "\n",
    "# Check the first few rows of each dataset\n",
    "print(reddit_data.head())\n",
    "print(twitter_data.head())\n",
    "\n",
    "# Check data types and missing values\n",
    "print(reddit_data.info())\n",
    "print(twitter_data.info())\n",
    "\n",
    "# Check for duplicates\n",
    "print(reddit_data.duplicated().sum())\n",
    "print(twitter_data.duplicated().sum())\n",
    "\n",
    "# Basic statistics\n",
    "print(reddit_data.describe(include='all'))\n",
    "print(twitter_data.describe(include='all'))"
   ]
  },
  {
   "cell_type": "code",
   "execution_count": null,
   "id": "2b2cb28b-2e1c-414a-b03f-d4085ebd54ff",
   "metadata": {},
   "outputs": [],
   "source": [
    "# Check for missing values\n",
    "print(reddit_data.isnull().sum())\n",
    "print(twitter_data.isnull().sum())\n",
    "\n",
    "# Optionally handle missing data (e.g., fill, drop)\n",
    "reddit_data = reddit_data.dropna()\n",
    "twitter_data = twitter_data.dropna()"
   ]
  },
  {
   "cell_type": "markdown",
   "id": "e305352f-b27c-4b5b-9f15-5187d772003e",
   "metadata": {},
   "source": [
    "**TESTING**"
   ]
  },
  {
   "cell_type": "code",
   "execution_count": null,
   "id": "fabca2ee-be49-474f-b22c-f35a16ec0c74",
   "metadata": {},
   "outputs": [],
   "source": [
    "import matplotlib.pyplot as plt\n",
    "import seaborn as sns\n",
    "\n",
    "# Distribution of numerical features\n",
    "numeric_columns = reddit_data.select_dtypes(include=['int64', 'float64']).columns\n",
    "for col in numeric_columns:\n",
    "    plt.figure(figsize=(6,4))\n",
    "    sns.histplot(reddit_data[col], kde=True)\n",
    "    plt.title(f'Distribution of {col} in Reddit Data')\n",
    "    plt.show()\n",
    "\n",
    "# Categorical feature analysis\n",
    "categorical_columns = reddit_data.select_dtypes(include=['object']).columns\n",
    "for col in categorical_columns:\n",
    "    plt.figure(figsize=(6,4))\n",
    "    sns.countplot(y=reddit_data[col], order=reddit_data[col].value_counts().index)\n",
    "    plt.title(f'Count of {col} in Reddit Data')\n",
    "    plt.show()"
   ]
  },
  {
   "cell_type": "markdown",
   "id": "11136b32-462a-45fd-80f1-7f79f79fe374",
   "metadata": {},
   "source": [
    "**TESTING**"
   ]
  },
  {
   "cell_type": "code",
   "execution_count": null,
   "id": "eeb78adf-b441-4447-80b7-15c3cae42d2e",
   "metadata": {},
   "outputs": [],
   "source": [
    "# Correlation matrix for numerical data\n",
    "plt.figure(figsize=(8,6))\n",
    "sns.heatmap(reddit_data.corr(), annot=True, cmap='coolwarm')\n",
    "plt.title('Correlation Matrix of Reddit Data')\n",
    "plt.show()"
   ]
  },
  {
   "cell_type": "markdown",
   "id": "7d10ed18-40f7-45a3-a1d3-83e5e07f9051",
   "metadata": {},
   "source": [
    "**TESTING**"
   ]
  },
  {
   "cell_type": "code",
   "execution_count": null,
   "id": "121701d7-aee2-48f4-9ba4-f0baddeae254",
   "metadata": {},
   "outputs": [],
   "source": [
    "from wordcloud import WordCloud\n",
    "\n",
    "text_data = ' '.join(reddit_data['clean_comment'].astype(str).tolist())\n",
    "wordcloud = WordCloud(width=800, height=400, background_color='white').generate(text_data)\n",
    "\n",
    "plt.figure(figsize=(10,6))\n",
    "plt.imshow(wordcloud, interpolation='bilinear')\n",
    "plt.axis('off')\n",
    "plt.title('Word Cloud of Reddit Data Text')\n",
    "plt.show()\n",
    "\n",
    "text_data = ' '.join(twitter_data['clean_text'].astype(str).tolist())\n",
    "wordcloud = WordCloud(width=800, height=400, background_color='white').generate(text_data)\n",
    "\n",
    "plt.figure(figsize=(10,6))\n",
    "plt.imshow(wordcloud, interpolation='bilinear')\n",
    "plt.axis('off')\n",
    "plt.title('Word Cloud of Twitter Data Text')\n",
    "plt.show()"
   ]
  },
  {
   "cell_type": "code",
   "execution_count": null,
   "id": "368ae043-cb4a-444e-8d97-46835bbb59fb",
   "metadata": {},
   "outputs": [],
   "source": [
    "# Common columns\n",
    "common_columns = set(reddit_data.columns) & set(twitter_data.columns)\n",
    "for col in common_columns:\n",
    "    plt.figure(figsize=(6,4))\n",
    "    sns.kdeplot(reddit_data[col], label='Reddit', shade=True)\n",
    "    sns.kdeplot(twitter_data[col], label='Twitter', shade=True)\n",
    "    plt.title(f'Comparison of {col} between Reddit and Twitter Data')\n",
    "    plt.legend()\n",
    "    plt.show()"
   ]
  },
  {
   "cell_type": "code",
   "execution_count": null,
   "id": "3fc85983-e4d5-4a52-a711-d1fa5d5cf2c8",
   "metadata": {},
   "outputs": [],
   "source": [
    "# Assuming a 'sentiment' column exists with categorical sentiment labels\n",
    "plt.figure(figsize=(6,4))\n",
    "sns.countplot(x='category', data=reddit_data, palette='coolwarm')\n",
    "plt.title('Sentiment Distribution in Reddit Data')\n",
    "plt.show()\n",
    "\n",
    "sns.countplot(x='category', data=twitter_data, palette='viridis')\n",
    "plt.title('Sentiment Distribution in Twitter Data')\n",
    "plt.show()"
   ]
  },
  {
   "cell_type": "code",
   "execution_count": null,
   "id": "c7717016-392f-44ac-9fef-8f16c20581bc",
   "metadata": {},
   "outputs": [],
   "source": [
    "from textblob import TextBlob\n",
    "\n",
    "# Calculate sentiment polarity\n",
    "reddit_data['polarity'] = reddit_data['clean_comment'].apply(lambda x: TextBlob(str(x)).sentiment.polarity)\n",
    "twitter_data['polarity'] = twitter_data['clean_text'].apply(lambda x: TextBlob(str(x)).sentiment.polarity)\n",
    "\n",
    "# Plot polarity distribution\n",
    "plt.figure(figsize=(6,4))\n",
    "sns.histplot(reddit_data['polarity'], kde=True, color='blue', bins=30)\n",
    "plt.title('Sentiment Polarity Distribution in Reddit Data')\n",
    "plt.show()\n",
    "\n",
    "plt.figure(figsize=(6,4))\n",
    "sns.histplot(twitter_data['polarity'], kde=True, color='green', bins=30)\n",
    "plt.title('Sentiment Polarity Distribution in Twitter Data')\n",
    "plt.show()"
   ]
  },
  {
   "cell_type": "code",
   "execution_count": null,
   "id": "bbd0d0ac-e731-45e6-bb20-09df03fc1758",
   "metadata": {},
   "outputs": [],
   "source": [
    "# Create a word count column\n",
    "reddit_data['word_count'] = reddit_data['clean_comment'].apply(lambda x: len(str(x).split()))\n",
    "twitter_data['word_count'] = twitter_data['clean_text'].apply(lambda x: len(str(x).split()))\n",
    "\n",
    "# Scatter plot of word count vs polarity\n",
    "plt.figure(figsize=(6,4))\n",
    "sns.scatterplot(x='word_count', y='polarity', data=reddit_data, alpha=0.5)\n",
    "plt.title('Word Count vs Sentiment Polarity (Reddit)')\n",
    "plt.show()\n",
    "\n",
    "sns.scatterplot(x='word_count', y='polarity', data=twitter_data, alpha=0.5)\n",
    "plt.title('Word Count vs Sentiment Polarity (Twitter)')\n",
    "plt.show()"
   ]
  },
  {
   "cell_type": "code",
   "execution_count": null,
   "id": "191f8614-c4a0-4fb3-a964-e23f9a02d975",
   "metadata": {},
   "outputs": [],
   "source": [
    "from wordcloud import WordCloud\n",
    "\n",
    "# Word cloud for positive sentiment\n",
    "positive_text = ' '.join(reddit_data[reddit_data['polarity'] > 0]['text'].astype(str))\n",
    "wordcloud = WordCloud(width=800, height=400, background_color='white').generate(positive_text)\n",
    "\n",
    "plt.figure(figsize=(10,6))\n",
    "plt.imshow(wordcloud, interpolation='bilinear')\n",
    "plt.axis('off')\n",
    "plt.title('Word Cloud of Positive Sentiment in Reddit Data')\n",
    "plt.show()"
   ]
  },
  {
   "cell_type": "code",
   "execution_count": null,
   "id": "2b68e852-39fc-41f5-8ce4-f32129112ebd",
   "metadata": {},
   "outputs": [],
   "source": [
    "# KDE plot to compare polarity\n",
    "plt.figure(figsize=(6,4))\n",
    "sns.kdeplot(reddit_data['polarity'], label='Reddit', shade=True)\n",
    "sns.kdeplot(twitter_data['polarity'], label='Twitter', shade=True)\n",
    "plt.title('Sentiment Polarity Comparison')\n",
    "plt.legend()\n",
    "plt.show()"
   ]
  }
 ],
 "metadata": {
  "kernelspec": {
   "display_name": "Python 3 (ipykernel)",
   "language": "python",
   "name": "python3"
  },
  "language_info": {
   "codemirror_mode": {
    "name": "ipython",
    "version": 3
   },
   "file_extension": ".py",
   "mimetype": "text/x-python",
   "name": "python",
   "nbconvert_exporter": "python",
   "pygments_lexer": "ipython3",
   "version": "3.12.7"
  }
 },
 "nbformat": 4,
 "nbformat_minor": 5
}
