{
 "cells": [
  {
   "cell_type": "code",
   "execution_count": 2,
   "id": "7b0c0e1d-8b41-401f-b8c8-6ef610d760ad",
   "metadata": {},
   "outputs": [
    {
     "name": "stdout",
     "output_type": "stream",
     "text": [
      "<class 'pandas.core.frame.DataFrame'>\n",
      "RangeIndex: 37249 entries, 0 to 37248\n",
      "Data columns (total 2 columns):\n",
      " #   Column         Non-Null Count  Dtype \n",
      "---  ------         --------------  ----- \n",
      " 0   clean_comment  37149 non-null  object\n",
      " 1   category       37249 non-null  int64 \n",
      "dtypes: int64(1), object(1)\n",
      "memory usage: 582.1+ KB\n",
      "<class 'pandas.core.frame.DataFrame'>\n",
      "RangeIndex: 162980 entries, 0 to 162979\n",
      "Data columns (total 2 columns):\n",
      " #   Column      Non-Null Count   Dtype  \n",
      "---  ------      --------------   -----  \n",
      " 0   clean_text  162976 non-null  object \n",
      " 1   category    162973 non-null  float64\n",
      "dtypes: float64(1), object(1)\n",
      "memory usage: 2.5+ MB\n",
      "<class 'pandas.core.frame.DataFrame'>\n",
      "Index: 36799 entries, 0 to 37248\n",
      "Data columns (total 2 columns):\n",
      " #   Column         Non-Null Count  Dtype \n",
      "---  ------         --------------  ----- \n",
      " 0   clean_comment  36799 non-null  object\n",
      " 1   category       36799 non-null  int64 \n",
      "dtypes: int64(1), object(1)\n",
      "memory usage: 862.5+ KB\n",
      "<class 'pandas.core.frame.DataFrame'>\n",
      "Index: 162969 entries, 0 to 162979\n",
      "Data columns (total 2 columns):\n",
      " #   Column      Non-Null Count   Dtype \n",
      "---  ------      --------------   ----- \n",
      " 0   clean_text  162969 non-null  object\n",
      " 1   category    162969 non-null  int64 \n",
      "dtypes: int64(1), object(1)\n",
      "memory usage: 3.7+ MB\n"
     ]
    },
    {
     "data": {
      "text/plain": [
       "('/Users/allisonselwah/Downloads/CSV_files/Reddit_Data_Cleaned.csv',\n",
       " '/Users/allisonselwah/Downloads/CSV_files/Twitter_Data_Cleaned.csv')"
      ]
     },
     "execution_count": 2,
     "metadata": {},
     "output_type": "execute_result"
    }
   ],
   "source": [
    "import pandas as pd\n",
    "import re\n",
    "\n",
    "# File paths\n",
    "reddit_file = \"/Users/allisonselwah/Downloads/CSV_files/Reddit_Data.csv\"\n",
    "twitter_file = \"/Users/allisonselwah/Downloads/CSV_files/Twitter_Data.csv\"\n",
    "\n",
    "# Load datasets\n",
    "reddit_df = pd.read_csv(reddit_file)\n",
    "twitter_df = pd.read_csv(twitter_file)\n",
    "\n",
    "# Display basic information and first few rows\n",
    "reddit_info = reddit_df.info(), reddit_df.head()\n",
    "twitter_info = twitter_df.info(), twitter_df.head()\n",
    "\n",
    "reddit_info, twitter_info\n",
    "\n",
    "# Drop missing values\n",
    "reddit_df = reddit_df.dropna()\n",
    "twitter_df = twitter_df.dropna()\n",
    "\n",
    "# Convert 'category' in Twitter dataset to integer\n",
    "twitter_df[\"category\"] = twitter_df[\"category\"].astype(int)\n",
    "\n",
    "# Remove duplicates\n",
    "reddit_df = reddit_df.drop_duplicates()\n",
    "twitter_df = twitter_df.drop_duplicates()\n",
    "\n",
    "# Function for text cleaning\n",
    "def clean_text(text):\n",
    "    text = text.lower()  # Convert to lowercase\n",
    "    text = re.sub(r\"http\\S+|www\\S+|https\\S+\", \"\", text, flags=re.MULTILINE)  # Remove URLs\n",
    "    text = re.sub(r\"[^\\w\\s]\", \"\", text)  # Remove special characters\n",
    "    text = re.sub(r\"\\s+\", \" \", text).strip()  # Remove extra spaces\n",
    "    return text\n",
    "\n",
    "# Apply text cleaning\n",
    "reddit_df[\"clean_comment\"] = reddit_df[\"clean_comment\"].apply(clean_text)\n",
    "twitter_df[\"clean_text\"] = twitter_df[\"clean_text\"].apply(clean_text)\n",
    "\n",
    "# Display dataset info after cleaning\n",
    "reddit_clean_info = reddit_df.info(), reddit_df.head()\n",
    "twitter_clean_info = twitter_df.info(), twitter_df.head()\n",
    "\n",
    "reddit_clean_info, twitter_clean_info\n",
    "\n",
    "# Define new file paths\n",
    "reddit_cleaned_file = \"/Users/allisonselwah/Downloads/CSV_files/Reddit_Data_Cleaned.csv\"\n",
    "twitter_cleaned_file = \"/Users/allisonselwah/Downloads/CSV_files/Twitter_Data_Cleaned.csv\"\n",
    "\n",
    "# Save cleaned data\n",
    "reddit_df.to_csv(reddit_cleaned_file, index=False)\n",
    "twitter_df.to_csv(twitter_cleaned_file, index=False)\n",
    "\n",
    "# Output file paths\n",
    "reddit_cleaned_file, twitter_cleaned_file"
   ]
  },
  {
   "cell_type": "code",
   "execution_count": null,
   "id": "317ec8bf-3b41-453f-bbcd-28bd1bd9d9ff",
   "metadata": {},
   "outputs": [],
   "source": []
  }
 ],
 "metadata": {
  "kernelspec": {
   "display_name": "Python 3 (ipykernel)",
   "language": "python",
   "name": "python3"
  },
  "language_info": {
   "codemirror_mode": {
    "name": "ipython",
    "version": 3
   },
   "file_extension": ".py",
   "mimetype": "text/x-python",
   "name": "python",
   "nbconvert_exporter": "python",
   "pygments_lexer": "ipython3",
   "version": "3.12.7"
  }
 },
 "nbformat": 4,
 "nbformat_minor": 5
}
